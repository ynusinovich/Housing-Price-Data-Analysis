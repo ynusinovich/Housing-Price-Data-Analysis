{
 "cells": [
  {
   "cell_type": "markdown",
   "metadata": {},
   "source": [
    "# Project 2 - Ames Housing Data and Kaggle Challenge - Notebook 2\n",
    "\n",
    "[DSI-US-8 Regression Challenge on Kaggle](https://www.kaggle.com/c/dsi-us-8-project-2-regression-challenge)<br>\n",
    "[Data Description](http://jse.amstat.org/v19n3/decock/DataDocumentation.txt)\n",
    "\n",
    "---"
   ]
  },
  {
   "cell_type": "markdown",
   "metadata": {},
   "source": [
    "## Contents\n",
    "- [Import Libraries](#Import-Libraries)\n",
    "- [Load Data](#Load-Data)\n",
    "- [Set Up X and Y, and Training and Test Data](#Set-Up-X-and-Y,-and-Training-and-Test-Data)\n",
    "- [KNN Regression](#KNN-Regression)\n",
    "- [Ridge Regression](#Ridge-Regression)\n",
    "- [Lasso Regression](#Lasso-Regression)\n",
    "- [Visualizations](#Visualizations)\n",
    "- [Apply Model with Best Score to Test Data to Predict the Sale Prices, Drop Extra Columns, and Save Model and Predictions](#Apply-Model-with-Best-Score-to-Test-Data-to-Predict-the-Sale-Prices,-Drop-Extra-Columns,-and-Save-Model-and-Predictions)"
   ]
  },
  {
   "cell_type": "markdown",
   "metadata": {},
   "source": [
    "## Import Libraries"
   ]
  },
  {
   "cell_type": "code",
   "execution_count": 554,
   "metadata": {},
   "outputs": [],
   "source": [
    "import pandas as pd\n",
    "import numpy as np\n",
    "import seaborn as sns\n",
    "import matplotlib.pyplot as plt\n",
    "\n",
    "from sklearn.linear_model import LinearRegression, Ridge, RidgeCV, Lasso, LassoCV\n",
    "from sklearn.preprocessing import StandardScaler, PolynomialFeatures, LabelEncoder\n",
    "from sklearn.model_selection import train_test_split, cross_val_score, GridSearchCV\n",
    "from sklearn.metrics import r2_score\n",
    "from sklearn.neighbors import KNeighborsClassifier, KNeighborsRegressor\n",
    "from matplotlib.ticker import FormatStrFormatter, FuncFormatter\n",
    "\n",
    "from joblib import dump, load\n",
    "\n",
    "pd.set_option('display.max_columns', 100)\n",
    "pd.set_option('display.max_rows', 100)"
   ]
  },
  {
   "cell_type": "markdown",
   "metadata": {},
   "source": [
    "## Load Data"
   ]
  },
  {
   "cell_type": "code",
   "execution_count": 555,
   "metadata": {},
   "outputs": [
    {
     "data": {
      "text/html": [
       "<div>\n",
       "<style scoped>\n",
       "    .dataframe tbody tr th:only-of-type {\n",
       "        vertical-align: middle;\n",
       "    }\n",
       "\n",
       "    .dataframe tbody tr th {\n",
       "        vertical-align: top;\n",
       "    }\n",
       "\n",
       "    .dataframe thead th {\n",
       "        text-align: right;\n",
       "    }\n",
       "</style>\n",
       "<table border=\"1\" class=\"dataframe\">\n",
       "  <thead>\n",
       "    <tr style=\"text-align: right;\">\n",
       "      <th></th>\n",
       "      <th>Id</th>\n",
       "      <th>PID</th>\n",
       "      <th>MS SubClass</th>\n",
       "      <th>MS Zoning</th>\n",
       "      <th>Lot Frontage</th>\n",
       "      <th>Lot Area</th>\n",
       "      <th>Street</th>\n",
       "      <th>Alley</th>\n",
       "      <th>Lot Shape</th>\n",
       "      <th>Land Contour</th>\n",
       "      <th>Utilities</th>\n",
       "      <th>Lot Config</th>\n",
       "      <th>Land Slope</th>\n",
       "      <th>Neighborhood</th>\n",
       "      <th>Condition 1</th>\n",
       "      <th>Condition 2</th>\n",
       "      <th>Bldg Type</th>\n",
       "      <th>House Style</th>\n",
       "      <th>Overall Qual</th>\n",
       "      <th>Overall Cond</th>\n",
       "      <th>Year Remod/Add</th>\n",
       "      <th>Roof Style</th>\n",
       "      <th>Roof Matl</th>\n",
       "      <th>Mas Vnr Type</th>\n",
       "      <th>Mas Vnr Area</th>\n",
       "      <th>Exter Qual</th>\n",
       "      <th>Exter Cond</th>\n",
       "      <th>Foundation</th>\n",
       "      <th>Bsmt Qual</th>\n",
       "      <th>Bsmt Cond</th>\n",
       "      <th>Bsmt Exposure</th>\n",
       "      <th>BsmtFin Type 1</th>\n",
       "      <th>BsmtFin SF 1</th>\n",
       "      <th>Bsmt Unf SF</th>\n",
       "      <th>Total Bsmt SF</th>\n",
       "      <th>Heating</th>\n",
       "      <th>Heating QC</th>\n",
       "      <th>Central Air</th>\n",
       "      <th>Electrical</th>\n",
       "      <th>1st Flr SF</th>\n",
       "      <th>2nd Flr SF</th>\n",
       "      <th>Low Qual Fin SF</th>\n",
       "      <th>Bsmt Full Bath</th>\n",
       "      <th>Bsmt Half Bath</th>\n",
       "      <th>Full Bath</th>\n",
       "      <th>Half Bath</th>\n",
       "      <th>Bedroom AbvGr</th>\n",
       "      <th>Kitchen AbvGr</th>\n",
       "      <th>Kitchen Qual</th>\n",
       "      <th>Functional</th>\n",
       "      <th>Garage Type</th>\n",
       "      <th>Garage Finish</th>\n",
       "      <th>Paved Drive</th>\n",
       "      <th>Wood Deck SF</th>\n",
       "      <th>Open Porch SF</th>\n",
       "      <th>Enclosed Porch</th>\n",
       "      <th>3Ssn Porch</th>\n",
       "      <th>Screen Porch</th>\n",
       "      <th>Fence</th>\n",
       "      <th>Misc Feature</th>\n",
       "      <th>Misc Val</th>\n",
       "      <th>Mo Sold</th>\n",
       "      <th>Yr Sold</th>\n",
       "      <th>Sale Type</th>\n",
       "      <th>SalePrice</th>\n",
       "      <th>Exterior Combined</th>\n",
       "      <th>Rooms Combined</th>\n",
       "      <th>Fireplace Combined</th>\n",
       "      <th>Garage Combined</th>\n",
       "      <th>Pool Combined</th>\n",
       "      <th>Bsmt Type 2 Combined</th>\n",
       "      <th>Year Combined</th>\n",
       "      <th>Year Combined Squared</th>\n",
       "      <th>Year Remod/Add Squared</th>\n",
       "    </tr>\n",
       "  </thead>\n",
       "  <tbody>\n",
       "    <tr>\n",
       "      <th>0</th>\n",
       "      <td>109</td>\n",
       "      <td>533352170</td>\n",
       "      <td>0.793283</td>\n",
       "      <td>0.049879</td>\n",
       "      <td>0.000000</td>\n",
       "      <td>0.693608</td>\n",
       "      <td>0.058607</td>\n",
       "      <td>0.056156</td>\n",
       "      <td>-1.364069</td>\n",
       "      <td>0.312444</td>\n",
       "      <td>0.029681</td>\n",
       "      <td>-1.298802</td>\n",
       "      <td>-0.213499</td>\n",
       "      <td>1.054276</td>\n",
       "      <td>3.392571</td>\n",
       "      <td>-0.010052</td>\n",
       "      <td>-0.422218</td>\n",
       "      <td>1.050487</td>\n",
       "      <td>-0.075980</td>\n",
       "      <td>2.207546</td>\n",
       "      <td>0.992443</td>\n",
       "      <td>-0.489236</td>\n",
       "      <td>-0.10588</td>\n",
       "      <td>-1.405463</td>\n",
       "      <td>1.114878</td>\n",
       "      <td>1.01518</td>\n",
       "      <td>-0.230598</td>\n",
       "      <td>-0.543065</td>\n",
       "      <td>-0.540969</td>\n",
       "      <td>0.123809</td>\n",
       "      <td>-0.580364</td>\n",
       "      <td>1.148413</td>\n",
       "      <td>0.217725</td>\n",
       "      <td>-0.843456</td>\n",
       "      <td>-0.768420</td>\n",
       "      <td>-0.107533</td>\n",
       "      <td>0.873803</td>\n",
       "      <td>0.27213</td>\n",
       "      <td>0.285204</td>\n",
       "      <td>-1.149570</td>\n",
       "      <td>0.998633</td>\n",
       "      <td>-0.108137</td>\n",
       "      <td>-0.816815</td>\n",
       "      <td>-0.250195</td>\n",
       "      <td>0.771578</td>\n",
       "      <td>1.255190</td>\n",
       "      <td>0.189942</td>\n",
       "      <td>-0.204881</td>\n",
       "      <td>0.730080</td>\n",
       "      <td>0.230136</td>\n",
       "      <td>-0.762123</td>\n",
       "      <td>0.309380</td>\n",
       "      <td>0.311464</td>\n",
       "      <td>-0.729709</td>\n",
       "      <td>-0.049263</td>\n",
       "      <td>-0.377075</td>\n",
       "      <td>-0.102891</td>\n",
       "      <td>-0.288313</td>\n",
       "      <td>-0.475523</td>\n",
       "      <td>-0.163356</td>\n",
       "      <td>-0.09931</td>\n",
       "      <td>-1.174591</td>\n",
       "      <td>1.692863</td>\n",
       "      <td>0.337786</td>\n",
       "      <td>130500</td>\n",
       "      <td>-0.895204</td>\n",
       "      <td>-0.231658</td>\n",
       "      <td>-0.891838</td>\n",
       "      <td>-0.045045</td>\n",
       "      <td>-0.055263</td>\n",
       "      <td>-0.253802</td>\n",
       "      <td>0.033526</td>\n",
       "      <td>0.020498</td>\n",
       "      <td>0.994711</td>\n",
       "    </tr>\n",
       "    <tr>\n",
       "      <th>1</th>\n",
       "      <td>544</td>\n",
       "      <td>531379050</td>\n",
       "      <td>0.793283</td>\n",
       "      <td>0.049879</td>\n",
       "      <td>-0.672251</td>\n",
       "      <td>0.306115</td>\n",
       "      <td>0.058607</td>\n",
       "      <td>0.056156</td>\n",
       "      <td>-1.364069</td>\n",
       "      <td>0.312444</td>\n",
       "      <td>0.029681</td>\n",
       "      <td>-1.298802</td>\n",
       "      <td>-0.213499</td>\n",
       "      <td>1.194366</td>\n",
       "      <td>-0.041987</td>\n",
       "      <td>-0.010052</td>\n",
       "      <td>-0.422218</td>\n",
       "      <td>1.050487</td>\n",
       "      <td>0.627089</td>\n",
       "      <td>-0.508174</td>\n",
       "      <td>0.612040</td>\n",
       "      <td>-0.489236</td>\n",
       "      <td>-0.10588</td>\n",
       "      <td>-1.405463</td>\n",
       "      <td>0.200730</td>\n",
       "      <td>1.01518</td>\n",
       "      <td>-0.230598</td>\n",
       "      <td>0.853876</td>\n",
       "      <td>0.568642</td>\n",
       "      <td>0.123809</td>\n",
       "      <td>-0.580364</td>\n",
       "      <td>1.148413</td>\n",
       "      <td>0.454206</td>\n",
       "      <td>-0.654801</td>\n",
       "      <td>-0.327822</td>\n",
       "      <td>-0.107533</td>\n",
       "      <td>0.873803</td>\n",
       "      <td>0.27213</td>\n",
       "      <td>0.285204</td>\n",
       "      <td>-0.652799</td>\n",
       "      <td>2.067898</td>\n",
       "      <td>-0.108137</td>\n",
       "      <td>1.100966</td>\n",
       "      <td>-0.250195</td>\n",
       "      <td>0.771578</td>\n",
       "      <td>1.255190</td>\n",
       "      <td>1.400006</td>\n",
       "      <td>-0.204881</td>\n",
       "      <td>0.730080</td>\n",
       "      <td>0.230136</td>\n",
       "      <td>-0.762123</td>\n",
       "      <td>0.309380</td>\n",
       "      <td>0.311464</td>\n",
       "      <td>-0.729709</td>\n",
       "      <td>0.406110</td>\n",
       "      <td>-0.377075</td>\n",
       "      <td>-0.102891</td>\n",
       "      <td>-0.288313</td>\n",
       "      <td>-0.475523</td>\n",
       "      <td>-0.163356</td>\n",
       "      <td>-0.09931</td>\n",
       "      <td>-0.809817</td>\n",
       "      <td>0.931336</td>\n",
       "      <td>0.337786</td>\n",
       "      <td>220000</td>\n",
       "      <td>0.826597</td>\n",
       "      <td>1.165157</td>\n",
       "      <td>0.431361</td>\n",
       "      <td>0.177469</td>\n",
       "      <td>-0.055263</td>\n",
       "      <td>-0.253802</td>\n",
       "      <td>0.826988</td>\n",
       "      <td>0.827341</td>\n",
       "      <td>0.610166</td>\n",
       "    </tr>\n",
       "    <tr>\n",
       "      <th>2</th>\n",
       "      <td>153</td>\n",
       "      <td>535304180</td>\n",
       "      <td>-0.560860</td>\n",
       "      <td>0.049879</td>\n",
       "      <td>0.217051</td>\n",
       "      <td>-0.377022</td>\n",
       "      <td>0.058607</td>\n",
       "      <td>0.056156</td>\n",
       "      <td>0.754555</td>\n",
       "      <td>0.312444</td>\n",
       "      <td>0.029681</td>\n",
       "      <td>0.584476</td>\n",
       "      <td>-0.213499</td>\n",
       "      <td>0.073642</td>\n",
       "      <td>-0.041987</td>\n",
       "      <td>-0.010052</td>\n",
       "      <td>-0.422218</td>\n",
       "      <td>-0.525629</td>\n",
       "      <td>-0.779048</td>\n",
       "      <td>1.302306</td>\n",
       "      <td>1.087544</td>\n",
       "      <td>-0.489236</td>\n",
       "      <td>-0.10588</td>\n",
       "      <td>0.537201</td>\n",
       "      <td>-0.567853</td>\n",
       "      <td>-0.69069</td>\n",
       "      <td>2.448795</td>\n",
       "      <td>-0.543065</td>\n",
       "      <td>-0.540969</td>\n",
       "      <td>0.123809</td>\n",
       "      <td>-0.580364</td>\n",
       "      <td>1.148413</td>\n",
       "      <td>0.667949</td>\n",
       "      <td>-0.542506</td>\n",
       "      <td>0.009656</td>\n",
       "      <td>-0.107533</td>\n",
       "      <td>-1.200401</td>\n",
       "      <td>0.27213</td>\n",
       "      <td>0.285204</td>\n",
       "      <td>-0.272295</td>\n",
       "      <td>-0.773290</td>\n",
       "      <td>-0.108137</td>\n",
       "      <td>1.100966</td>\n",
       "      <td>-0.250195</td>\n",
       "      <td>-1.048350</td>\n",
       "      <td>-0.740816</td>\n",
       "      <td>0.189942</td>\n",
       "      <td>-0.204881</td>\n",
       "      <td>0.730080</td>\n",
       "      <td>0.230136</td>\n",
       "      <td>1.309028</td>\n",
       "      <td>-0.804496</td>\n",
       "      <td>0.311464</td>\n",
       "      <td>-0.729709</td>\n",
       "      <td>0.072169</td>\n",
       "      <td>-0.377075</td>\n",
       "      <td>-0.102891</td>\n",
       "      <td>-0.288313</td>\n",
       "      <td>-0.475523</td>\n",
       "      <td>-0.163356</td>\n",
       "      <td>-0.09931</td>\n",
       "      <td>-1.904139</td>\n",
       "      <td>1.692863</td>\n",
       "      <td>0.337786</td>\n",
       "      <td>109000</td>\n",
       "      <td>0.826597</td>\n",
       "      <td>-0.850414</td>\n",
       "      <td>-0.891838</td>\n",
       "      <td>-0.977484</td>\n",
       "      <td>-0.055263</td>\n",
       "      <td>-0.253802</td>\n",
       "      <td>-0.846955</td>\n",
       "      <td>-0.855337</td>\n",
       "      <td>1.091088</td>\n",
       "    </tr>\n",
       "    <tr>\n",
       "      <th>3</th>\n",
       "      <td>318</td>\n",
       "      <td>916386060</td>\n",
       "      <td>0.793283</td>\n",
       "      <td>0.049879</td>\n",
       "      <td>0.394912</td>\n",
       "      <td>-0.017275</td>\n",
       "      <td>0.058607</td>\n",
       "      <td>0.056156</td>\n",
       "      <td>0.754555</td>\n",
       "      <td>0.312444</td>\n",
       "      <td>0.029681</td>\n",
       "      <td>0.584476</td>\n",
       "      <td>-0.213499</td>\n",
       "      <td>1.614638</td>\n",
       "      <td>-0.041987</td>\n",
       "      <td>-0.010052</td>\n",
       "      <td>-0.422218</td>\n",
       "      <td>1.050487</td>\n",
       "      <td>-0.779048</td>\n",
       "      <td>-0.508174</td>\n",
       "      <td>1.087544</td>\n",
       "      <td>-0.489236</td>\n",
       "      <td>-0.10588</td>\n",
       "      <td>0.537201</td>\n",
       "      <td>-0.567853</td>\n",
       "      <td>-0.69069</td>\n",
       "      <td>-0.230598</td>\n",
       "      <td>0.853876</td>\n",
       "      <td>0.568642</td>\n",
       "      <td>0.123809</td>\n",
       "      <td>-0.580364</td>\n",
       "      <td>-1.204327</td>\n",
       "      <td>-0.994240</td>\n",
       "      <td>-0.412245</td>\n",
       "      <td>-1.567588</td>\n",
       "      <td>-0.107533</td>\n",
       "      <td>-0.163299</td>\n",
       "      <td>0.27213</td>\n",
       "      <td>0.285204</td>\n",
       "      <td>-1.099364</td>\n",
       "      <td>0.871732</td>\n",
       "      <td>-0.108137</td>\n",
       "      <td>-0.816815</td>\n",
       "      <td>-0.250195</td>\n",
       "      <td>0.771578</td>\n",
       "      <td>1.255190</td>\n",
       "      <td>0.189942</td>\n",
       "      <td>-0.204881</td>\n",
       "      <td>-0.774974</td>\n",
       "      <td>0.230136</td>\n",
       "      <td>0.273453</td>\n",
       "      <td>1.423255</td>\n",
       "      <td>0.311464</td>\n",
       "      <td>0.051008</td>\n",
       "      <td>-0.717145</td>\n",
       "      <td>-0.377075</td>\n",
       "      <td>-0.102891</td>\n",
       "      <td>-0.288313</td>\n",
       "      <td>-0.475523</td>\n",
       "      <td>-0.163356</td>\n",
       "      <td>-0.09931</td>\n",
       "      <td>-0.809817</td>\n",
       "      <td>1.692863</td>\n",
       "      <td>0.337786</td>\n",
       "      <td>174000</td>\n",
       "      <td>0.826597</td>\n",
       "      <td>-0.018912</td>\n",
       "      <td>-0.891838</td>\n",
       "      <td>-0.243718</td>\n",
       "      <td>-0.055263</td>\n",
       "      <td>-0.253802</td>\n",
       "      <td>1.217016</td>\n",
       "      <td>1.230052</td>\n",
       "      <td>1.091088</td>\n",
       "    </tr>\n",
       "    <tr>\n",
       "      <th>4</th>\n",
       "      <td>255</td>\n",
       "      <td>906425045</td>\n",
       "      <td>0.522454</td>\n",
       "      <td>0.049879</td>\n",
       "      <td>0.715061</td>\n",
       "      <td>0.831001</td>\n",
       "      <td>0.058607</td>\n",
       "      <td>0.056156</td>\n",
       "      <td>-1.364069</td>\n",
       "      <td>0.312444</td>\n",
       "      <td>0.029681</td>\n",
       "      <td>0.584476</td>\n",
       "      <td>-0.213499</td>\n",
       "      <td>1.194366</td>\n",
       "      <td>-0.041987</td>\n",
       "      <td>-0.010052</td>\n",
       "      <td>-0.422218</td>\n",
       "      <td>-1.576373</td>\n",
       "      <td>-0.075980</td>\n",
       "      <td>2.207546</td>\n",
       "      <td>0.421838</td>\n",
       "      <td>-0.489236</td>\n",
       "      <td>-0.10588</td>\n",
       "      <td>0.537201</td>\n",
       "      <td>-0.567853</td>\n",
       "      <td>-0.69069</td>\n",
       "      <td>-0.230598</td>\n",
       "      <td>0.853876</td>\n",
       "      <td>-1.650580</td>\n",
       "      <td>1.869938</td>\n",
       "      <td>-0.580364</td>\n",
       "      <td>-1.204327</td>\n",
       "      <td>-0.994240</td>\n",
       "      <td>0.243556</td>\n",
       "      <td>-0.883256</td>\n",
       "      <td>-0.107533</td>\n",
       "      <td>-1.200401</td>\n",
       "      <td>0.27213</td>\n",
       "      <td>0.285204</td>\n",
       "      <td>-0.869476</td>\n",
       "      <td>0.669629</td>\n",
       "      <td>-0.108137</td>\n",
       "      <td>-0.816815</td>\n",
       "      <td>-0.250195</td>\n",
       "      <td>0.771578</td>\n",
       "      <td>-0.740816</td>\n",
       "      <td>0.189942</td>\n",
       "      <td>-0.204881</td>\n",
       "      <td>-0.774974</td>\n",
       "      <td>0.230136</td>\n",
       "      <td>1.309028</td>\n",
       "      <td>-0.804496</td>\n",
       "      <td>-3.424274</td>\n",
       "      <td>-0.729709</td>\n",
       "      <td>0.178423</td>\n",
       "      <td>-0.377075</td>\n",
       "      <td>-0.102891</td>\n",
       "      <td>-0.288313</td>\n",
       "      <td>-0.475523</td>\n",
       "      <td>-0.163356</td>\n",
       "      <td>-0.09931</td>\n",
       "      <td>-1.174591</td>\n",
       "      <td>1.692863</td>\n",
       "      <td>0.337786</td>\n",
       "      <td>138500</td>\n",
       "      <td>0.244223</td>\n",
       "      <td>-0.266828</td>\n",
       "      <td>-0.891838</td>\n",
       "      <td>-0.021204</td>\n",
       "      <td>-0.055263</td>\n",
       "      <td>-0.253802</td>\n",
       "      <td>-1.781434</td>\n",
       "      <td>-1.762453</td>\n",
       "      <td>0.418470</td>\n",
       "    </tr>\n",
       "  </tbody>\n",
       "</table>\n",
       "</div>"
      ],
      "text/plain": [
       "    Id        PID  MS SubClass  MS Zoning  Lot Frontage  Lot Area    Street  \\\n",
       "0  109  533352170     0.793283   0.049879      0.000000  0.693608  0.058607   \n",
       "1  544  531379050     0.793283   0.049879     -0.672251  0.306115  0.058607   \n",
       "2  153  535304180    -0.560860   0.049879      0.217051 -0.377022  0.058607   \n",
       "3  318  916386060     0.793283   0.049879      0.394912 -0.017275  0.058607   \n",
       "4  255  906425045     0.522454   0.049879      0.715061  0.831001  0.058607   \n",
       "\n",
       "      Alley  Lot Shape  Land Contour  Utilities  Lot Config  Land Slope  \\\n",
       "0  0.056156  -1.364069      0.312444   0.029681   -1.298802   -0.213499   \n",
       "1  0.056156  -1.364069      0.312444   0.029681   -1.298802   -0.213499   \n",
       "2  0.056156   0.754555      0.312444   0.029681    0.584476   -0.213499   \n",
       "3  0.056156   0.754555      0.312444   0.029681    0.584476   -0.213499   \n",
       "4  0.056156  -1.364069      0.312444   0.029681    0.584476   -0.213499   \n",
       "\n",
       "   Neighborhood  Condition 1  Condition 2  Bldg Type  House Style  \\\n",
       "0      1.054276     3.392571    -0.010052  -0.422218     1.050487   \n",
       "1      1.194366    -0.041987    -0.010052  -0.422218     1.050487   \n",
       "2      0.073642    -0.041987    -0.010052  -0.422218    -0.525629   \n",
       "3      1.614638    -0.041987    -0.010052  -0.422218     1.050487   \n",
       "4      1.194366    -0.041987    -0.010052  -0.422218    -1.576373   \n",
       "\n",
       "   Overall Qual  Overall Cond  Year Remod/Add  Roof Style  Roof Matl  \\\n",
       "0     -0.075980      2.207546        0.992443   -0.489236   -0.10588   \n",
       "1      0.627089     -0.508174        0.612040   -0.489236   -0.10588   \n",
       "2     -0.779048      1.302306        1.087544   -0.489236   -0.10588   \n",
       "3     -0.779048     -0.508174        1.087544   -0.489236   -0.10588   \n",
       "4     -0.075980      2.207546        0.421838   -0.489236   -0.10588   \n",
       "\n",
       "   Mas Vnr Type  Mas Vnr Area  Exter Qual  Exter Cond  Foundation  Bsmt Qual  \\\n",
       "0     -1.405463      1.114878     1.01518   -0.230598   -0.543065  -0.540969   \n",
       "1     -1.405463      0.200730     1.01518   -0.230598    0.853876   0.568642   \n",
       "2      0.537201     -0.567853    -0.69069    2.448795   -0.543065  -0.540969   \n",
       "3      0.537201     -0.567853    -0.69069   -0.230598    0.853876   0.568642   \n",
       "4      0.537201     -0.567853    -0.69069   -0.230598    0.853876  -1.650580   \n",
       "\n",
       "   Bsmt Cond  Bsmt Exposure  BsmtFin Type 1  BsmtFin SF 1  Bsmt Unf SF  \\\n",
       "0   0.123809      -0.580364        1.148413      0.217725    -0.843456   \n",
       "1   0.123809      -0.580364        1.148413      0.454206    -0.654801   \n",
       "2   0.123809      -0.580364        1.148413      0.667949    -0.542506   \n",
       "3   0.123809      -0.580364       -1.204327     -0.994240    -0.412245   \n",
       "4   1.869938      -0.580364       -1.204327     -0.994240     0.243556   \n",
       "\n",
       "   Total Bsmt SF   Heating  Heating QC  Central Air  Electrical  1st Flr SF  \\\n",
       "0      -0.768420 -0.107533    0.873803      0.27213    0.285204   -1.149570   \n",
       "1      -0.327822 -0.107533    0.873803      0.27213    0.285204   -0.652799   \n",
       "2       0.009656 -0.107533   -1.200401      0.27213    0.285204   -0.272295   \n",
       "3      -1.567588 -0.107533   -0.163299      0.27213    0.285204   -1.099364   \n",
       "4      -0.883256 -0.107533   -1.200401      0.27213    0.285204   -0.869476   \n",
       "\n",
       "   2nd Flr SF  Low Qual Fin SF  Bsmt Full Bath  Bsmt Half Bath  Full Bath  \\\n",
       "0    0.998633        -0.108137       -0.816815       -0.250195   0.771578   \n",
       "1    2.067898        -0.108137        1.100966       -0.250195   0.771578   \n",
       "2   -0.773290        -0.108137        1.100966       -0.250195  -1.048350   \n",
       "3    0.871732        -0.108137       -0.816815       -0.250195   0.771578   \n",
       "4    0.669629        -0.108137       -0.816815       -0.250195   0.771578   \n",
       "\n",
       "   Half Bath  Bedroom AbvGr  Kitchen AbvGr  Kitchen Qual  Functional  \\\n",
       "0   1.255190       0.189942      -0.204881      0.730080    0.230136   \n",
       "1   1.255190       1.400006      -0.204881      0.730080    0.230136   \n",
       "2  -0.740816       0.189942      -0.204881      0.730080    0.230136   \n",
       "3   1.255190       0.189942      -0.204881     -0.774974    0.230136   \n",
       "4  -0.740816       0.189942      -0.204881     -0.774974    0.230136   \n",
       "\n",
       "   Garage Type  Garage Finish  Paved Drive  Wood Deck SF  Open Porch SF  \\\n",
       "0    -0.762123       0.309380     0.311464     -0.729709      -0.049263   \n",
       "1    -0.762123       0.309380     0.311464     -0.729709       0.406110   \n",
       "2     1.309028      -0.804496     0.311464     -0.729709       0.072169   \n",
       "3     0.273453       1.423255     0.311464      0.051008      -0.717145   \n",
       "4     1.309028      -0.804496    -3.424274     -0.729709       0.178423   \n",
       "\n",
       "   Enclosed Porch  3Ssn Porch  Screen Porch     Fence  Misc Feature  Misc Val  \\\n",
       "0       -0.377075   -0.102891     -0.288313 -0.475523     -0.163356  -0.09931   \n",
       "1       -0.377075   -0.102891     -0.288313 -0.475523     -0.163356  -0.09931   \n",
       "2       -0.377075   -0.102891     -0.288313 -0.475523     -0.163356  -0.09931   \n",
       "3       -0.377075   -0.102891     -0.288313 -0.475523     -0.163356  -0.09931   \n",
       "4       -0.377075   -0.102891     -0.288313 -0.475523     -0.163356  -0.09931   \n",
       "\n",
       "    Mo Sold   Yr Sold  Sale Type  SalePrice  Exterior Combined  \\\n",
       "0 -1.174591  1.692863   0.337786     130500          -0.895204   \n",
       "1 -0.809817  0.931336   0.337786     220000           0.826597   \n",
       "2 -1.904139  1.692863   0.337786     109000           0.826597   \n",
       "3 -0.809817  1.692863   0.337786     174000           0.826597   \n",
       "4 -1.174591  1.692863   0.337786     138500           0.244223   \n",
       "\n",
       "   Rooms Combined  Fireplace Combined  Garage Combined  Pool Combined  \\\n",
       "0       -0.231658           -0.891838        -0.045045      -0.055263   \n",
       "1        1.165157            0.431361         0.177469      -0.055263   \n",
       "2       -0.850414           -0.891838        -0.977484      -0.055263   \n",
       "3       -0.018912           -0.891838        -0.243718      -0.055263   \n",
       "4       -0.266828           -0.891838        -0.021204      -0.055263   \n",
       "\n",
       "   Bsmt Type 2 Combined  Year Combined  Year Combined Squared  \\\n",
       "0             -0.253802       0.033526               0.020498   \n",
       "1             -0.253802       0.826988               0.827341   \n",
       "2             -0.253802      -0.846955              -0.855337   \n",
       "3             -0.253802       1.217016               1.230052   \n",
       "4             -0.253802      -1.781434              -1.762453   \n",
       "\n",
       "   Year Remod/Add Squared  \n",
       "0                0.994711  \n",
       "1                0.610166  \n",
       "2                1.091088  \n",
       "3                1.091088  \n",
       "4                0.418470  "
      ]
     },
     "execution_count": 555,
     "metadata": {},
     "output_type": "execute_result"
    }
   ],
   "source": [
    "df = pd.read_csv(\"../datasets/train_clean.csv\", dtype = {\"Id\":str, \"PID\":str})\n",
    "df.head()"
   ]
  },
  {
   "cell_type": "markdown",
   "metadata": {},
   "source": [
    "## Set Up X and Y, and Training and Test Data"
   ]
  },
  {
   "cell_type": "code",
   "execution_count": 556,
   "metadata": {},
   "outputs": [],
   "source": [
    "X = df.drop(['Id', 'PID', 'SalePrice'], axis = 'columns')\n",
    "y = df['SalePrice']"
   ]
  },
  {
   "cell_type": "code",
   "execution_count": 557,
   "metadata": {},
   "outputs": [],
   "source": [
    "X_train, X_test, y_train, y_test = train_test_split(X, y, test_size = 0.2)"
   ]
  },
  {
   "cell_type": "markdown",
   "metadata": {},
   "source": [
    "## KNN Regression"
   ]
  },
  {
   "cell_type": "markdown",
   "metadata": {},
   "source": [
    "### Check score for standard values of hyperparameters"
   ]
  },
  {
   "cell_type": "code",
   "execution_count": 558,
   "metadata": {},
   "outputs": [
    {
     "data": {
      "text/plain": [
       "0.8450995324376175"
      ]
     },
     "execution_count": 558,
     "metadata": {},
     "output_type": "execute_result"
    }
   ],
   "source": [
    "knn = KNeighborsRegressor()\n",
    "knn.fit(X_train, y_train)\n",
    "knn.score(X_test, y_test)"
   ]
  },
  {
   "cell_type": "markdown",
   "metadata": {},
   "source": [
    "### Tune hyperparameters"
   ]
  },
  {
   "cell_type": "code",
   "execution_count": 559,
   "metadata": {},
   "outputs": [],
   "source": [
    "knn_params = {\n",
    "    'n_neighbors': range(1, 101, 10),\n",
    "    'p': [1, 2, 3],\n",
    "    'weights': ['distance', 'uniform']\n",
    "}"
   ]
  },
  {
   "cell_type": "code",
   "execution_count": 560,
   "metadata": {},
   "outputs": [
    {
     "data": {
      "text/plain": [
       "GridSearchCV(cv=5, error_score=nan,\n",
       "             estimator=KNeighborsRegressor(algorithm='auto', leaf_size=30,\n",
       "                                           metric='minkowski',\n",
       "                                           metric_params=None, n_jobs=None,\n",
       "                                           n_neighbors=5, p=2,\n",
       "                                           weights='uniform'),\n",
       "             iid='deprecated', n_jobs=None,\n",
       "             param_grid={'n_neighbors': range(1, 101, 10), 'p': [1, 2, 3],\n",
       "                         'weights': ['distance', 'uniform']},\n",
       "             pre_dispatch='2*n_jobs', refit=True, return_train_score=False,\n",
       "             scoring=None, verbose=0)"
      ]
     },
     "execution_count": 560,
     "metadata": {},
     "output_type": "execute_result"
    }
   ],
   "source": [
    "knn_gridsearch = GridSearchCV(KNeighborsRegressor(), knn_params, cv = 5, verbose = 0)\n",
    "knn_gridsearch.fit(X_train, y_train)"
   ]
  },
  {
   "cell_type": "code",
   "execution_count": 561,
   "metadata": {},
   "outputs": [
    {
     "data": {
      "text/plain": [
       "0.8495564479044754"
      ]
     },
     "execution_count": 561,
     "metadata": {},
     "output_type": "execute_result"
    }
   ],
   "source": [
    "knn_gridsearch.best_score_"
   ]
  },
  {
   "cell_type": "code",
   "execution_count": 562,
   "metadata": {},
   "outputs": [
    {
     "data": {
      "text/plain": [
       "{'n_neighbors': 11, 'p': 1, 'weights': 'distance'}"
      ]
     },
     "execution_count": 562,
     "metadata": {},
     "output_type": "execute_result"
    }
   ],
   "source": [
    "knn_gridsearch.best_params_"
   ]
  },
  {
   "cell_type": "code",
   "execution_count": 563,
   "metadata": {},
   "outputs": [
    {
     "data": {
      "text/plain": [
       "0.8521545286704588"
      ]
     },
     "execution_count": 563,
     "metadata": {},
     "output_type": "execute_result"
    }
   ],
   "source": [
    "best_knn = knn_gridsearch.best_estimator_\n",
    "best_knn.score(X_test, y_test)"
   ]
  },
  {
   "cell_type": "markdown",
   "metadata": {},
   "source": [
    "## Ridge Regression"
   ]
  },
  {
   "cell_type": "markdown",
   "metadata": {},
   "source": [
    "### Check score for standard values of hyperparameters"
   ]
  },
  {
   "cell_type": "code",
   "execution_count": 564,
   "metadata": {},
   "outputs": [
    {
     "data": {
      "text/plain": [
       "0.8981683382896518"
      ]
     },
     "execution_count": 564,
     "metadata": {},
     "output_type": "execute_result"
    }
   ],
   "source": [
    "alpha = 10.0\n",
    "ridge_model = Ridge(alpha = alpha)\n",
    "cross_val_score(ridge_model, X, y, cv = 5).mean()"
   ]
  },
  {
   "cell_type": "markdown",
   "metadata": {},
   "source": [
    "### Tune hyperparameters"
   ]
  },
  {
   "cell_type": "code",
   "execution_count": 565,
   "metadata": {},
   "outputs": [],
   "source": [
    "# r_alpha_list = np.logspace(0, 5, 200)\n",
    "# ridge_model = RidgeCV(alphas = r_alpha_list, cv = 5, store_cv_values = True)\n",
    "# ridge_model = ridge_model.fit(X, y)\n",
    "# ridge_model.alpha_"
   ]
  },
  {
   "cell_type": "code",
   "execution_count": 566,
   "metadata": {},
   "outputs": [],
   "source": [
    "# ridge_opt_model = Ridge(alpha = ridge_model.alpha_)\n",
    "# cross_val_score(ridge_opt_model, X, y, cv = 5).mean()"
   ]
  },
  {
   "cell_type": "code",
   "execution_count": 567,
   "metadata": {},
   "outputs": [],
   "source": [
    "r_params = {\n",
    "    'alpha': np.logspace(0, 2, 400)\n",
    "}"
   ]
  },
  {
   "cell_type": "code",
   "execution_count": 568,
   "metadata": {},
   "outputs": [
    {
     "data": {
      "text/plain": [
       "GridSearchCV(cv=5, error_score=nan,\n",
       "             estimator=Ridge(alpha=1.0, copy_X=True, fit_intercept=True,\n",
       "                             max_iter=None, normalize=False, random_state=None,\n",
       "                             solver='auto', tol=0.001),\n",
       "             iid='deprecated', n_jobs=None,\n",
       "             param_grid={'alpha': array([  1.        ,   1.01160864,   1.02335205,   1.03523178,\n",
       "         1.04724941,   1.05940656,   1.07170483,   1.08414587,\n",
       "         1.09673133,   1.10946289,   1.12234225,   1.13537112,\n",
       "         1.1485...\n",
       "        76.68523971,  77.5754513 ,  78.47599704,  79.38699689,\n",
       "        80.30857221,  81.24084578,  82.18394177,  83.13798584,\n",
       "        84.10310505,  85.079428  ,  86.06708472,  87.06620681,\n",
       "        88.07692734,  89.09938097,  90.1337039 ,  91.18003391,\n",
       "        92.23851039,  93.30927435,  94.39246843,  95.48823692,\n",
       "        96.5967258 ,  97.71808273,  98.85245709, 100.        ])},\n",
       "             pre_dispatch='2*n_jobs', refit=True, return_train_score=False,\n",
       "             scoring=None, verbose=0)"
      ]
     },
     "execution_count": 568,
     "metadata": {},
     "output_type": "execute_result"
    }
   ],
   "source": [
    "r_gridsearch = GridSearchCV(Ridge(), r_params, cv = 5, verbose = 0)\n",
    "r_gridsearch.fit(X_train, y_train)"
   ]
  },
  {
   "cell_type": "code",
   "execution_count": 569,
   "metadata": {},
   "outputs": [
    {
     "data": {
      "text/plain": [
       "0.9005832330070522"
      ]
     },
     "execution_count": 569,
     "metadata": {},
     "output_type": "execute_result"
    }
   ],
   "source": [
    "r_gridsearch.best_score_"
   ]
  },
  {
   "cell_type": "code",
   "execution_count": 570,
   "metadata": {},
   "outputs": [
    {
     "data": {
      "text/plain": [
       "{'alpha': 44.06667430301786}"
      ]
     },
     "execution_count": 570,
     "metadata": {},
     "output_type": "execute_result"
    }
   ],
   "source": [
    "r_gridsearch.best_params_"
   ]
  },
  {
   "cell_type": "code",
   "execution_count": 571,
   "metadata": {},
   "outputs": [
    {
     "data": {
      "text/plain": [
       "0.882795567941669"
      ]
     },
     "execution_count": 571,
     "metadata": {},
     "output_type": "execute_result"
    }
   ],
   "source": [
    "best_r = r_gridsearch.best_estimator_\n",
    "best_r.score(X_test, y_test)"
   ]
  },
  {
   "cell_type": "markdown",
   "metadata": {},
   "source": [
    "## Lasso Regression"
   ]
  },
  {
   "cell_type": "markdown",
   "metadata": {},
   "source": [
    "### Check score for standard values of hyperparameters"
   ]
  },
  {
   "cell_type": "code",
   "execution_count": 572,
   "metadata": {},
   "outputs": [
    {
     "name": "stderr",
     "output_type": "stream",
     "text": [
      "/usr/local/anaconda3/lib/python3.7/site-packages/sklearn/linear_model/_coordinate_descent.py:476: ConvergenceWarning: Objective did not converge. You might want to increase the number of iterations. Duality gap: 426266131948.0564, tolerance: 1026129769.6003649\n",
      "  positive)\n",
      "/usr/local/anaconda3/lib/python3.7/site-packages/sklearn/linear_model/_coordinate_descent.py:476: ConvergenceWarning: Objective did not converge. You might want to increase the number of iterations. Duality gap: 476648302724.62146, tolerance: 1041244616.3887366\n",
      "  positive)\n",
      "/usr/local/anaconda3/lib/python3.7/site-packages/sklearn/linear_model/_coordinate_descent.py:476: ConvergenceWarning: Objective did not converge. You might want to increase the number of iterations. Duality gap: 480305802152.19714, tolerance: 1021082045.0129204\n",
      "  positive)\n",
      "/usr/local/anaconda3/lib/python3.7/site-packages/sklearn/linear_model/_coordinate_descent.py:476: ConvergenceWarning: Objective did not converge. You might want to increase the number of iterations. Duality gap: 471982172070.4486, tolerance: 1051607398.7856903\n",
      "  positive)\n",
      "/usr/local/anaconda3/lib/python3.7/site-packages/sklearn/linear_model/_coordinate_descent.py:476: ConvergenceWarning: Objective did not converge. You might want to increase the number of iterations. Duality gap: 448091210514.9851, tolerance: 999199388.8676754\n",
      "  positive)\n"
     ]
    },
    {
     "data": {
      "text/plain": [
       "0.8981784937518483"
      ]
     },
     "execution_count": 572,
     "metadata": {},
     "output_type": "execute_result"
    }
   ],
   "source": [
    "alpha = .01\n",
    "lasso_model = Lasso(alpha = alpha)\n",
    "cross_val_score(lasso_model, X, y, cv = 5).mean()"
   ]
  },
  {
   "cell_type": "markdown",
   "metadata": {},
   "source": [
    "### Tune hyperparameters"
   ]
  },
  {
   "cell_type": "code",
   "execution_count": 610,
   "metadata": {},
   "outputs": [],
   "source": [
    "# l_alpha_list = np.arange(0.001, 0.15, 0.0025)\n",
    "# lasso_model = LassoCV(alphas = l_alpha_list, cv = 5)\n",
    "# lasso_model = lasso_model.fit(X, y)\n",
    "# lasso_model.alpha_"
   ]
  },
  {
   "cell_type": "code",
   "execution_count": 611,
   "metadata": {},
   "outputs": [],
   "source": [
    "# lasso_model = Lasso(alpha = lasso_model.alpha_)\n",
    "# cross_val_score(lasso_model, X, y, cv = 5).mean()"
   ]
  },
  {
   "cell_type": "code",
   "execution_count": 612,
   "metadata": {},
   "outputs": [],
   "source": [
    "l_params = {\n",
    "    'alpha': np.arange(194, 198, .01)\n",
    "}"
   ]
  },
  {
   "cell_type": "code",
   "execution_count": 613,
   "metadata": {},
   "outputs": [
    {
     "data": {
      "text/plain": [
       "GridSearchCV(cv=5, error_score=nan,\n",
       "             estimator=Lasso(alpha=1.0, copy_X=True, fit_intercept=True,\n",
       "                             max_iter=1000, normalize=False, positive=False,\n",
       "                             precompute=False, random_state=None,\n",
       "                             selection='cyclic', tol=0.0001, warm_start=False),\n",
       "             iid='deprecated', n_jobs=None,\n",
       "             param_grid={'alpha': array([194.  , 194.01, 194.02, 194.03, 194.04, 194.05, 194.06, 194.07,\n",
       "       194.08, 194.09, 194.1 , 1...\n",
       "       197.6 , 197.61, 197.62, 197.63, 197.64, 197.65, 197.66, 197.67,\n",
       "       197.68, 197.69, 197.7 , 197.71, 197.72, 197.73, 197.74, 197.75,\n",
       "       197.76, 197.77, 197.78, 197.79, 197.8 , 197.81, 197.82, 197.83,\n",
       "       197.84, 197.85, 197.86, 197.87, 197.88, 197.89, 197.9 , 197.91,\n",
       "       197.92, 197.93, 197.94, 197.95, 197.96, 197.97, 197.98, 197.99])},\n",
       "             pre_dispatch='2*n_jobs', refit=True, return_train_score=False,\n",
       "             scoring=None, verbose=0)"
      ]
     },
     "execution_count": 613,
     "metadata": {},
     "output_type": "execute_result"
    }
   ],
   "source": [
    "l_gridsearch = GridSearchCV(Lasso(), l_params, cv = 5, verbose = 0)\n",
    "l_gridsearch.fit(X_train, y_train)"
   ]
  },
  {
   "cell_type": "code",
   "execution_count": 614,
   "metadata": {},
   "outputs": [
    {
     "data": {
      "text/plain": [
       "0.9010254590796997"
      ]
     },
     "execution_count": 614,
     "metadata": {},
     "output_type": "execute_result"
    }
   ],
   "source": [
    "l_gridsearch.best_score_"
   ]
  },
  {
   "cell_type": "code",
   "execution_count": 615,
   "metadata": {},
   "outputs": [
    {
     "data": {
      "text/plain": [
       "{'alpha': 196.25999999999794}"
      ]
     },
     "execution_count": 615,
     "metadata": {},
     "output_type": "execute_result"
    }
   ],
   "source": [
    "l_gridsearch.best_params_"
   ]
  },
  {
   "cell_type": "code",
   "execution_count": 616,
   "metadata": {},
   "outputs": [
    {
     "data": {
      "text/plain": [
       "0.8833318698161257"
      ]
     },
     "execution_count": 616,
     "metadata": {},
     "output_type": "execute_result"
    }
   ],
   "source": [
    "best_l = l_gridsearch.best_estimator_\n",
    "best_l.score(X_test, y_test)"
   ]
  },
  {
   "cell_type": "code",
   "execution_count": 617,
   "metadata": {},
   "outputs": [
    {
     "data": {
      "text/plain": [
       "array([    0.        ,  -980.65521175,  1729.3984121 ,  6991.12435188,\n",
       "         179.80129945,  -445.69049571,  -632.78437591, -1662.33603148,\n",
       "         821.00076473,   323.99409876,   679.37123938,   517.37754784,\n",
       "         759.41000288,   722.28599185, -3386.89984928, -1609.34583321,\n",
       "       15628.12578027,  3951.53262093,     0.        ,  1844.41490839,\n",
       "       -1534.67149726,  4794.17560756,  7913.42540693,  6827.00566803,\n",
       "         -59.56952401,  2976.41551966,  3414.94507847, -4267.11289707,\n",
       "        4018.9934087 ,     0.        , 10239.51742456,     0.        ,\n",
       "        8725.41005105,  -384.13159331,   661.27217255,  -504.19923842,\n",
       "        -825.55124256,  6512.22475499,  6431.78764405,  -795.93985132,\n",
       "           0.        ,  -115.92285596,  1705.33585223,  1769.62608372,\n",
       "       -5563.05328904, -3774.69373423,  6001.88516992,  3400.21357154,\n",
       "        2914.82685727,  1138.3097619 ,  1482.58805222,   203.97501113,\n",
       "          48.55173277,     0.        ,   322.00886939,  3216.60131548,\n",
       "        -192.85238146,   478.37282962,  -147.82407663,    63.74534626,\n",
       "       -1121.67826797,  -645.32844087,  -962.75205072, 18625.00694737,\n",
       "        3301.94555605,  6036.3028816 , -1087.30238244,  2545.95262335,\n",
       "           0.        ,  5095.57767208,  1408.62792385])"
      ]
     },
     "execution_count": 617,
     "metadata": {},
     "output_type": "execute_result"
    }
   ],
   "source": [
    "best_l.coef_"
   ]
  },
  {
   "cell_type": "markdown",
   "metadata": {},
   "source": [
    "## Visualizations"
   ]
  },
  {
   "cell_type": "code",
   "execution_count": 618,
   "metadata": {},
   "outputs": [
    {
     "data": {
      "text/plain": [
       "MS SubClass                   0.000000\n",
       "Year Combined                 0.000000\n",
       "BsmtFin Type 1                0.000000\n",
       "Bsmt Unf SF                   0.000000\n",
       "Bsmt Full Bath                0.000000\n",
       "Enclosed Porch                0.000000\n",
       "Year Remod/Add                0.000000\n",
       "Open Porch SF                48.551733\n",
       "Exter Cond                   59.569524\n",
       "Mo Sold                      63.745346\n",
       "Bsmt Half Bath              115.922856\n",
       "Misc Val                    147.824077\n",
       "Street                      179.801299\n",
       "Fence                       192.852381\n",
       "Wood Deck SF                203.975011\n",
       "3Ssn Porch                  322.008869\n",
       "Lot Config                  323.994099\n",
       "Heating                     384.131593\n",
       "Alley                       445.690496\n",
       "Misc Feature                478.372830\n",
       "Central Air                 504.199238\n",
       "Neighborhood                517.377548\n",
       "Lot Shape                   632.784376\n",
       "Sale Type                   645.328441\n",
       "Heating QC                  661.272173\n",
       "Land Slope                  679.371239\n",
       "Condition 2                 722.285992\n",
       "Condition 1                 759.410003\n",
       "Low Qual Fin SF             795.939851\n",
       "Utilities                   821.000765\n",
       "Electrical                  825.551243\n",
       "Exterior Combined           962.752051\n",
       "MS Zoning                   980.655212\n",
       "Pool Combined              1087.302382\n",
       "Yr Sold                    1121.678268\n",
       "Garage Finish              1138.309762\n",
       "Year Remod/Add Squared     1408.627924\n",
       "Paved Drive                1482.588052\n",
       "Roof Matl                  1534.671497\n",
       "House Style                1609.345833\n",
       "Land Contour               1662.336031\n",
       "Full Bath                  1705.335852\n",
       "Lot Frontage               1729.398412\n",
       "Half Bath                  1769.626084\n",
       "Roof Style                 1844.414908\n",
       "Bsmt Type 2 Combined       2545.952623\n",
       "Garage Type                2914.826857\n",
       "Foundation                 2976.415520\n",
       "Screen Porch               3216.601315\n",
       "Fireplace Combined         3301.945556\n",
       "Bldg Type                  3386.899849\n",
       "Functional                 3400.213572\n",
       "Bsmt Qual                  3414.945078\n",
       "Kitchen AbvGr              3774.693734\n",
       "Overall Cond               3951.532621\n",
       "Bsmt Exposure              4018.993409\n",
       "Bsmt Cond                  4267.112897\n",
       "Mas Vnr Type               4794.175608\n",
       "Year Combined Squared      5095.577672\n",
       "Bedroom AbvGr              5563.053289\n",
       "Kitchen Qual               6001.885170\n",
       "Garage Combined            6036.302882\n",
       "2nd Flr SF                 6431.787644\n",
       "1st Flr SF                 6512.224755\n",
       "Exter Qual                 6827.005668\n",
       "Lot Area                   6991.124352\n",
       "Mas Vnr Area               7913.425407\n",
       "Total Bsmt SF              8725.410051\n",
       "BsmtFin SF 1              10239.517425\n",
       "Overall Qual              15628.125780\n",
       "Rooms Combined            18625.006947\n",
       "dtype: float64"
      ]
     },
     "execution_count": 618,
     "metadata": {},
     "output_type": "execute_result"
    }
   ],
   "source": [
    "coeff_series = pd.Series(best_l.coef_, index = df.columns.drop([\"Id\",\"PID\",\"SalePrice\"]))\n",
    "abs(coeff_series).sort_values()"
   ]
  },
  {
   "cell_type": "code",
   "execution_count": 619,
   "metadata": {},
   "outputs": [
    {
     "data": {
      "text/plain": [
       "Bedroom AbvGr             -5563.053289\n",
       "Bsmt Cond                 -4267.112897\n",
       "Kitchen AbvGr             -3774.693734\n",
       "Bldg Type                 -3386.899849\n",
       "Land Contour              -1662.336031\n",
       "House Style               -1609.345833\n",
       "Roof Matl                 -1534.671497\n",
       "Yr Sold                   -1121.678268\n",
       "Pool Combined             -1087.302382\n",
       "MS Zoning                  -980.655212\n",
       "Exterior Combined          -962.752051\n",
       "Electrical                 -825.551243\n",
       "Low Qual Fin SF            -795.939851\n",
       "Sale Type                  -645.328441\n",
       "Lot Shape                  -632.784376\n",
       "Central Air                -504.199238\n",
       "Alley                      -445.690496\n",
       "Heating                    -384.131593\n",
       "Fence                      -192.852381\n",
       "Misc Val                   -147.824077\n",
       "Bsmt Half Bath             -115.922856\n",
       "Exter Cond                  -59.569524\n",
       "Year Combined                 0.000000\n",
       "BsmtFin Type 1                0.000000\n",
       "Bsmt Full Bath                0.000000\n",
       "Enclosed Porch                0.000000\n",
       "Bsmt Unf SF                   0.000000\n",
       "MS SubClass                   0.000000\n",
       "Year Remod/Add                0.000000\n",
       "Open Porch SF                48.551733\n",
       "Mo Sold                      63.745346\n",
       "Street                      179.801299\n",
       "Wood Deck SF                203.975011\n",
       "3Ssn Porch                  322.008869\n",
       "Lot Config                  323.994099\n",
       "Misc Feature                478.372830\n",
       "Neighborhood                517.377548\n",
       "Heating QC                  661.272173\n",
       "Land Slope                  679.371239\n",
       "Condition 2                 722.285992\n",
       "Condition 1                 759.410003\n",
       "Utilities                   821.000765\n",
       "Garage Finish              1138.309762\n",
       "Year Remod/Add Squared     1408.627924\n",
       "Paved Drive                1482.588052\n",
       "Full Bath                  1705.335852\n",
       "Lot Frontage               1729.398412\n",
       "Half Bath                  1769.626084\n",
       "Roof Style                 1844.414908\n",
       "Bsmt Type 2 Combined       2545.952623\n",
       "Garage Type                2914.826857\n",
       "Foundation                 2976.415520\n",
       "Screen Porch               3216.601315\n",
       "Fireplace Combined         3301.945556\n",
       "Functional                 3400.213572\n",
       "Bsmt Qual                  3414.945078\n",
       "Overall Cond               3951.532621\n",
       "Bsmt Exposure              4018.993409\n",
       "Mas Vnr Type               4794.175608\n",
       "Year Combined Squared      5095.577672\n",
       "Kitchen Qual               6001.885170\n",
       "Garage Combined            6036.302882\n",
       "2nd Flr SF                 6431.787644\n",
       "1st Flr SF                 6512.224755\n",
       "Exter Qual                 6827.005668\n",
       "Lot Area                   6991.124352\n",
       "Mas Vnr Area               7913.425407\n",
       "Total Bsmt SF              8725.410051\n",
       "BsmtFin SF 1              10239.517425\n",
       "Overall Qual              15628.125780\n",
       "Rooms Combined            18625.006947\n",
       "dtype: float64"
      ]
     },
     "execution_count": 619,
     "metadata": {},
     "output_type": "execute_result"
    }
   ],
   "source": [
    "coeff_series.sort_values()"
   ]
  },
  {
   "cell_type": "code",
   "execution_count": 620,
   "metadata": {},
   "outputs": [
    {
     "data": {
      "image/png": "[encoded data removed]",
      "text/plain": [
       "<Figure size 1440x720 with 1 Axes>"
      ]
     },
     "metadata": {
      "needs_background": "light"
     },
     "output_type": "display_data"
    }
   ],
   "source": [
    "col_names = [\"Model\",\"Best Score on Training Data\", \"Best Score on Test Data\"]\n",
    "col_vals = [[\"KNN Regression\", knn_gridsearch.best_score_, best_knn.score(X_test, y_test)],\n",
    "            [\"Ridge Regression\", r_gridsearch.best_score_,best_r.score(X_test, y_test)],\n",
    "            [\"Lasso Regression\", l_gridsearch.best_score_, best_l.score(X_test, y_test)]]\n",
    "model_df = pd.DataFrame(col_vals, columns = col_names)\n",
    "\n",
    "model_df.plot(x = \"Model\", y = [\"Best Score on Training Data\", \"Best Score on Test Data\"], kind = \"bar\", figsize = (20, 10))\n",
    "plt.xlabel(\"Type of Model\", fontsize = 20)\n",
    "plt.xticks(rotation = \"horizontal\")\n",
    "plt.ylabel(\"R^2 Scores\", fontsize = 20)\n",
    "plt.yticks(np.arange(0.83,0.92,0.01))\n",
    "plt.ylim(0.83,0.91)\n",
    "plt.title(\"R^2 Scores on Training and Test Data for Each Model\", fontsize = 30)\n",
    "plt.legend((model_df.columns[1], model_df.columns[2]))\n",
    "plt.show()"
   ]
  },
  {
   "cell_type": "code",
   "execution_count": 621,
   "metadata": {},
   "outputs": [
    {
     "data": {
      "image/png": "[encoded data removed]",
      "text/plain": [
       "<Figure size 1080x720 with 1 Axes>"
      ]
     },
     "metadata": {
      "needs_background": "light"
     },
     "output_type": "display_data"
    }
   ],
   "source": [
    "l_gridsearch_df = pd.DataFrame(l_gridsearch.cv_results_)\n",
    "l_gridsearch_df.plot(x = 'param_alpha', y = 'mean_test_score', figsize = (15,10))\n",
    "ax = plt.gca()\n",
    "ax.get_legend().remove()\n",
    "plt.xlabel(\"Tuning of Alpha Parameter\", fontsize = 20)\n",
    "plt.ylabel(\"R^2 Scores\", fontsize = 20)\n",
    "ax.yaxis.set_major_formatter(FormatStrFormatter('%.7f'))\n",
    "plt.title(\"R^2 Score Based on Alpha Parameter Values\", fontsize = 30)\n",
    "plt.show()"
   ]
  },
  {
   "cell_type": "code",
   "execution_count": 622,
   "metadata": {},
   "outputs": [
    {
     "name": "stdout",
     "output_type": "stream",
     "text": [
      "The best cross-validation R^2 score for the train dataset is: 0.9010254590796997\n",
      "The best cross-validation R^2 score for the test dataset is: 0.8833318698161257\n"
     ]
    },
    {
     "data": {
      "image/png": "[encoded data removed]",
      "text/plain": [
       "<Figure size 1440x720 with 1 Axes>"
      ]
     },
     "metadata": {
      "needs_background": "light"
     },
     "output_type": "display_data"
    }
   ],
   "source": [
    "print('The best cross-validation R^2 score for the train dataset is: {}'.format(l_gridsearch.best_score_))\n",
    "print('The best cross-validation R^2 score for the test dataset is: {}'.format(best_l.score(X_test, y_test)))\n",
    "coeff_series.plot.bar(figsize = (20,10))\n",
    "plt.xlabel('House Feature', fontsize = 15)\n",
    "plt.ylabel('Effect on Price ($)', fontsize = 15)\n",
    "plt.yticks(np.arange(-10000,20001,5000))\n",
    "ax = plt.gca()\n",
    "ax.get_yaxis().set_major_formatter(FuncFormatter(lambda x, p: format(int(x), ',')))\n",
    "plt.title('Effect of House Features on Price, Based on Feature Standard Deviations from Mean', fontsize = 25)\n",
    "plt.vlines(x = df.columns.drop([\"Id\",\"PID\",\"SalePrice\"]), ymin = -10000, ymax = 20000, linestyles = \"dotted\")\n",
    "plt.show()"
   ]
  },
  {
   "cell_type": "code",
   "execution_count": 623,
   "metadata": {},
   "outputs": [
    {
     "data": {
      "image/png": "[encoded data removed]",
      "text/plain": [
       "<Figure size 1080x720 with 1 Axes>"
      ]
     },
     "metadata": {
      "needs_background": "light"
     },
     "output_type": "display_data"
    }
   ],
   "source": [
    "predictions = best_l.predict(X_test)\n",
    "residuals = y_test - predictions\n",
    "\n",
    "plt.figure(figsize = (15, 10))\n",
    "plt.scatter(predictions, residuals)\n",
    "plt.plot([0,500000], [0,0], color = \"red\")\n",
    "plt.xticks(np.arange(0,500001,50000))\n",
    "plt.yticks(np.arange(-150000,150001,50000))\n",
    "plt.xlabel('Housing Price Predictions ($)', fontsize = 15)\n",
    "plt.ylabel('Housing Price Errors ($)', fontsize = 15)\n",
    "ax = plt.gca()\n",
    "ax.get_xaxis().set_major_formatter(FuncFormatter(lambda x, p: format(int(x), ',')))\n",
    "ax.get_yaxis().set_major_formatter(FuncFormatter(lambda x, p: format(int(x), ',')))\n",
    "plt.title('Errors for Our Best Model')\n",
    "plt.show()"
   ]
  },
  {
   "cell_type": "markdown",
   "metadata": {},
   "source": [
    "## Apply Model with Best Score to Test Data to Predict the Sale Prices, Drop Extra Columns, and Save Model and Predictions"
   ]
  },
  {
   "cell_type": "code",
   "execution_count": 624,
   "metadata": {},
   "outputs": [
    {
     "data": {
      "text/html": [
       "<div>\n",
       "<style scoped>\n",
       "    .dataframe tbody tr th:only-of-type {\n",
       "        vertical-align: middle;\n",
       "    }\n",
       "\n",
       "    .dataframe tbody tr th {\n",
       "        vertical-align: top;\n",
       "    }\n",
       "\n",
       "    .dataframe thead th {\n",
       "        text-align: right;\n",
       "    }\n",
       "</style>\n",
       "<table border=\"1\" class=\"dataframe\">\n",
       "  <thead>\n",
       "    <tr style=\"text-align: right;\">\n",
       "      <th></th>\n",
       "      <th>Id</th>\n",
       "      <th>PID</th>\n",
       "      <th>MS SubClass</th>\n",
       "      <th>MS Zoning</th>\n",
       "      <th>Lot Frontage</th>\n",
       "      <th>Lot Area</th>\n",
       "      <th>Street</th>\n",
       "      <th>Alley</th>\n",
       "      <th>Lot Shape</th>\n",
       "      <th>Land Contour</th>\n",
       "      <th>Utilities</th>\n",
       "      <th>Lot Config</th>\n",
       "      <th>Land Slope</th>\n",
       "      <th>Neighborhood</th>\n",
       "      <th>Condition 1</th>\n",
       "      <th>Condition 2</th>\n",
       "      <th>Bldg Type</th>\n",
       "      <th>House Style</th>\n",
       "      <th>Overall Qual</th>\n",
       "      <th>Overall Cond</th>\n",
       "      <th>Year Remod/Add</th>\n",
       "      <th>Roof Style</th>\n",
       "      <th>Roof Matl</th>\n",
       "      <th>Mas Vnr Type</th>\n",
       "      <th>Mas Vnr Area</th>\n",
       "      <th>Exter Qual</th>\n",
       "      <th>Exter Cond</th>\n",
       "      <th>Foundation</th>\n",
       "      <th>Bsmt Qual</th>\n",
       "      <th>Bsmt Cond</th>\n",
       "      <th>Bsmt Exposure</th>\n",
       "      <th>BsmtFin Type 1</th>\n",
       "      <th>BsmtFin SF 1</th>\n",
       "      <th>Bsmt Unf SF</th>\n",
       "      <th>Total Bsmt SF</th>\n",
       "      <th>Heating</th>\n",
       "      <th>Heating QC</th>\n",
       "      <th>Central Air</th>\n",
       "      <th>Electrical</th>\n",
       "      <th>1st Flr SF</th>\n",
       "      <th>2nd Flr SF</th>\n",
       "      <th>Low Qual Fin SF</th>\n",
       "      <th>Bsmt Full Bath</th>\n",
       "      <th>Bsmt Half Bath</th>\n",
       "      <th>Full Bath</th>\n",
       "      <th>Half Bath</th>\n",
       "      <th>Bedroom AbvGr</th>\n",
       "      <th>Kitchen AbvGr</th>\n",
       "      <th>Kitchen Qual</th>\n",
       "      <th>Functional</th>\n",
       "      <th>Garage Type</th>\n",
       "      <th>Garage Finish</th>\n",
       "      <th>Paved Drive</th>\n",
       "      <th>Wood Deck SF</th>\n",
       "      <th>Open Porch SF</th>\n",
       "      <th>Enclosed Porch</th>\n",
       "      <th>3Ssn Porch</th>\n",
       "      <th>Screen Porch</th>\n",
       "      <th>Fence</th>\n",
       "      <th>Misc Feature</th>\n",
       "      <th>Misc Val</th>\n",
       "      <th>Mo Sold</th>\n",
       "      <th>Yr Sold</th>\n",
       "      <th>Sale Type</th>\n",
       "      <th>Exterior Combined</th>\n",
       "      <th>Rooms Combined</th>\n",
       "      <th>Fireplace Combined</th>\n",
       "      <th>Garage Combined</th>\n",
       "      <th>Pool Combined</th>\n",
       "      <th>Bsmt Type 2 Combined</th>\n",
       "      <th>Year Combined</th>\n",
       "      <th>Year Combined Squared</th>\n",
       "      <th>Year Remod/Add Squared</th>\n",
       "    </tr>\n",
       "  </thead>\n",
       "  <tbody>\n",
       "    <tr>\n",
       "      <th>0</th>\n",
       "      <td>2658</td>\n",
       "      <td>902301120</td>\n",
       "      <td>-0.845828</td>\n",
       "      <td>1.219052</td>\n",
       "      <td>0.226794</td>\n",
       "      <td>-0.119395</td>\n",
       "      <td>0.075636</td>\n",
       "      <td>-3.845253</td>\n",
       "      <td>0.737539</td>\n",
       "      <td>0.316443</td>\n",
       "      <td>0.033748</td>\n",
       "      <td>0.597473</td>\n",
       "      <td>-0.216513</td>\n",
       "      <td>0.793478</td>\n",
       "      <td>-0.056162</td>\n",
       "      <td>-0.012749</td>\n",
       "      <td>0.378301</td>\n",
       "      <td>0.996692</td>\n",
       "      <td>-0.039744</td>\n",
       "      <td>2.158742</td>\n",
       "      <td>-1.684928</td>\n",
       "      <td>-0.465037</td>\n",
       "      <td>-0.137031</td>\n",
       "      <td>0.498108</td>\n",
       "      <td>-0.567876</td>\n",
       "      <td>-0.678508</td>\n",
       "      <td>-2.937136</td>\n",
       "      <td>3.466548</td>\n",
       "      <td>-1.596589</td>\n",
       "      <td>0.160561</td>\n",
       "      <td>-0.590655</td>\n",
       "      <td>-1.200628</td>\n",
       "      <td>-1.002642</td>\n",
       "      <td>1.128313</td>\n",
       "      <td>-0.039976</td>\n",
       "      <td>-0.09684</td>\n",
       "      <td>-0.136254</td>\n",
       "      <td>-3.870635</td>\n",
       "      <td>-8.237365</td>\n",
       "      <td>-0.630383</td>\n",
       "      <td>1.543113</td>\n",
       "      <td>-0.08378</td>\n",
       "      <td>-0.831204</td>\n",
       "      <td>-0.242974</td>\n",
       "      <td>0.817846</td>\n",
       "      <td>-0.789544</td>\n",
       "      <td>1.350474</td>\n",
       "      <td>4.256360</td>\n",
       "      <td>-2.277805</td>\n",
       "      <td>0.250557</td>\n",
       "      <td>1.285728</td>\n",
       "      <td>-0.796061</td>\n",
       "      <td>0.322303</td>\n",
       "      <td>-0.772558</td>\n",
       "      <td>0.181019</td>\n",
       "      <td>1.202156</td>\n",
       "      <td>-0.104074</td>\n",
       "      <td>-0.279785</td>\n",
       "      <td>-0.478968</td>\n",
       "      <td>-0.214042</td>\n",
       "      <td>-0.088152</td>\n",
       "      <td>-0.835185</td>\n",
       "      <td>-1.375505</td>\n",
       "      <td>0.349429</td>\n",
       "      <td>-1.691204</td>\n",
       "      <td>1.151806</td>\n",
       "      <td>-0.873367</td>\n",
       "      <td>-1.234196</td>\n",
       "      <td>-0.060519</td>\n",
       "      <td>-0.264842</td>\n",
       "      <td>-2.367550</td>\n",
       "      <td>-2.319279</td>\n",
       "      <td>-1.679352</td>\n",
       "    </tr>\n",
       "    <tr>\n",
       "      <th>1</th>\n",
       "      <td>2718</td>\n",
       "      <td>905108090</td>\n",
       "      <td>2.068753</td>\n",
       "      <td>0.009631</td>\n",
       "      <td>-2.111455</td>\n",
       "      <td>-0.067611</td>\n",
       "      <td>0.075636</td>\n",
       "      <td>0.053221</td>\n",
       "      <td>-1.399702</td>\n",
       "      <td>0.316443</td>\n",
       "      <td>0.033748</td>\n",
       "      <td>0.597473</td>\n",
       "      <td>-0.216513</td>\n",
       "      <td>1.072298</td>\n",
       "      <td>-0.056162</td>\n",
       "      <td>-0.012749</td>\n",
       "      <td>1.187368</td>\n",
       "      <td>-0.561267</td>\n",
       "      <td>-0.767560</td>\n",
       "      <td>-1.388051</td>\n",
       "      <td>-0.364176</td>\n",
       "      <td>-0.465037</td>\n",
       "      <td>-0.137031</td>\n",
       "      <td>0.498108</td>\n",
       "      <td>-0.567876</td>\n",
       "      <td>-0.678508</td>\n",
       "      <td>-0.228067</td>\n",
       "      <td>-0.537520</td>\n",
       "      <td>0.601378</td>\n",
       "      <td>0.160561</td>\n",
       "      <td>-0.590655</td>\n",
       "      <td>-1.200628</td>\n",
       "      <td>-1.002642</td>\n",
       "      <td>3.352152</td>\n",
       "      <td>2.220060</td>\n",
       "      <td>-0.09684</td>\n",
       "      <td>-1.196141</td>\n",
       "      <td>0.258356</td>\n",
       "      <td>0.261043</td>\n",
       "      <td>2.150564</td>\n",
       "      <td>-0.805235</td>\n",
       "      <td>-0.08378</td>\n",
       "      <td>-0.831204</td>\n",
       "      <td>-0.242974</td>\n",
       "      <td>0.817846</td>\n",
       "      <td>-0.789544</td>\n",
       "      <td>3.760761</td>\n",
       "      <td>4.256360</td>\n",
       "      <td>-0.756384</td>\n",
       "      <td>0.250557</td>\n",
       "      <td>-0.781314</td>\n",
       "      <td>1.435957</td>\n",
       "      <td>0.322303</td>\n",
       "      <td>0.631179</td>\n",
       "      <td>-0.686412</td>\n",
       "      <td>-0.328514</td>\n",
       "      <td>-0.104074</td>\n",
       "      <td>-0.279785</td>\n",
       "      <td>-0.478968</td>\n",
       "      <td>-0.214042</td>\n",
       "      <td>-0.088152</td>\n",
       "      <td>0.678480</td>\n",
       "      <td>-1.375505</td>\n",
       "      <td>0.349429</td>\n",
       "      <td>-0.414094</td>\n",
       "      <td>1.533218</td>\n",
       "      <td>-0.873367</td>\n",
       "      <td>0.284685</td>\n",
       "      <td>-0.060519</td>\n",
       "      <td>-0.264842</td>\n",
       "      <td>0.120289</td>\n",
       "      <td>0.107680</td>\n",
       "      <td>-0.369501</td>\n",
       "    </tr>\n",
       "    <tr>\n",
       "      <th>2</th>\n",
       "      <td>2414</td>\n",
       "      <td>528218130</td>\n",
       "      <td>0.743943</td>\n",
       "      <td>0.009631</td>\n",
       "      <td>-0.145970</td>\n",
       "      <td>0.673505</td>\n",
       "      <td>0.075636</td>\n",
       "      <td>0.053221</td>\n",
       "      <td>-1.399702</td>\n",
       "      <td>0.316443</td>\n",
       "      <td>0.033748</td>\n",
       "      <td>0.597473</td>\n",
       "      <td>-0.216513</td>\n",
       "      <td>-0.879440</td>\n",
       "      <td>-0.056162</td>\n",
       "      <td>-0.012749</td>\n",
       "      <td>-0.430766</td>\n",
       "      <td>0.996692</td>\n",
       "      <td>0.688072</td>\n",
       "      <td>-0.501353</td>\n",
       "      <td>1.054409</td>\n",
       "      <td>-0.465037</td>\n",
       "      <td>-0.137031</td>\n",
       "      <td>0.498108</td>\n",
       "      <td>-0.567876</td>\n",
       "      <td>1.101815</td>\n",
       "      <td>-0.228067</td>\n",
       "      <td>0.797169</td>\n",
       "      <td>0.601378</td>\n",
       "      <td>1.902942</td>\n",
       "      <td>1.283662</td>\n",
       "      <td>1.189208</td>\n",
       "      <td>0.250104</td>\n",
       "      <td>-1.032121</td>\n",
       "      <td>-0.913443</td>\n",
       "      <td>-0.09684</td>\n",
       "      <td>0.923633</td>\n",
       "      <td>0.258356</td>\n",
       "      <td>0.261043</td>\n",
       "      <td>-1.271130</td>\n",
       "      <td>1.110281</td>\n",
       "      <td>-0.08378</td>\n",
       "      <td>1.056724</td>\n",
       "      <td>-0.242974</td>\n",
       "      <td>0.817846</td>\n",
       "      <td>1.187690</td>\n",
       "      <td>0.145330</td>\n",
       "      <td>-0.213581</td>\n",
       "      <td>0.765038</td>\n",
       "      <td>0.250557</td>\n",
       "      <td>-0.781314</td>\n",
       "      <td>0.319948</td>\n",
       "      <td>0.322303</td>\n",
       "      <td>0.053170</td>\n",
       "      <td>-0.339439</td>\n",
       "      <td>-0.328514</td>\n",
       "      <td>-0.104074</td>\n",
       "      <td>-0.279785</td>\n",
       "      <td>-0.478968</td>\n",
       "      <td>-0.214042</td>\n",
       "      <td>-0.088152</td>\n",
       "      <td>1.056896</td>\n",
       "      <td>-1.375505</td>\n",
       "      <td>-1.298950</td>\n",
       "      <td>0.811931</td>\n",
       "      <td>0.019743</td>\n",
       "      <td>0.756548</td>\n",
       "      <td>-0.136349</td>\n",
       "      <td>-0.060519</td>\n",
       "      <td>-0.264842</td>\n",
       "      <td>1.223710</td>\n",
       "      <td>1.237651</td>\n",
       "      <td>1.057438</td>\n",
       "    </tr>\n",
       "    <tr>\n",
       "      <th>3</th>\n",
       "      <td>1989</td>\n",
       "      <td>902207150</td>\n",
       "      <td>-0.315905</td>\n",
       "      <td>1.219052</td>\n",
       "      <td>-0.078195</td>\n",
       "      <td>-0.181337</td>\n",
       "      <td>0.075636</td>\n",
       "      <td>0.053221</td>\n",
       "      <td>0.737539</td>\n",
       "      <td>0.316443</td>\n",
       "      <td>0.033748</td>\n",
       "      <td>0.597473</td>\n",
       "      <td>-0.216513</td>\n",
       "      <td>0.793478</td>\n",
       "      <td>-0.056162</td>\n",
       "      <td>-0.012749</td>\n",
       "      <td>-0.430766</td>\n",
       "      <td>-0.561267</td>\n",
       "      <td>-0.767560</td>\n",
       "      <td>0.385345</td>\n",
       "      <td>1.054409</td>\n",
       "      <td>-0.465037</td>\n",
       "      <td>-0.137031</td>\n",
       "      <td>0.498108</td>\n",
       "      <td>-0.567876</td>\n",
       "      <td>1.101815</td>\n",
       "      <td>-0.228067</td>\n",
       "      <td>-0.537520</td>\n",
       "      <td>-0.497606</td>\n",
       "      <td>0.160561</td>\n",
       "      <td>-0.590655</td>\n",
       "      <td>-1.200628</td>\n",
       "      <td>-1.002642</td>\n",
       "      <td>1.006202</td>\n",
       "      <td>-0.164075</td>\n",
       "      <td>-0.09684</td>\n",
       "      <td>-1.196141</td>\n",
       "      <td>0.258356</td>\n",
       "      <td>0.261043</td>\n",
       "      <td>-0.472823</td>\n",
       "      <td>-0.805235</td>\n",
       "      <td>-0.08378</td>\n",
       "      <td>-0.831204</td>\n",
       "      <td>-0.242974</td>\n",
       "      <td>-0.965992</td>\n",
       "      <td>-0.789544</td>\n",
       "      <td>-1.059813</td>\n",
       "      <td>-0.213581</td>\n",
       "      <td>-0.756384</td>\n",
       "      <td>0.250557</td>\n",
       "      <td>1.285728</td>\n",
       "      <td>-0.796061</td>\n",
       "      <td>-3.381023</td>\n",
       "      <td>-0.772558</td>\n",
       "      <td>-0.686412</td>\n",
       "      <td>2.186158</td>\n",
       "      <td>-0.104074</td>\n",
       "      <td>-0.279785</td>\n",
       "      <td>-0.478968</td>\n",
       "      <td>-0.214042</td>\n",
       "      <td>-0.088152</td>\n",
       "      <td>0.300064</td>\n",
       "      <td>-0.621721</td>\n",
       "      <td>0.349429</td>\n",
       "      <td>1.182293</td>\n",
       "      <td>-0.906968</td>\n",
       "      <td>-0.873367</td>\n",
       "      <td>-0.426152</td>\n",
       "      <td>-0.060519</td>\n",
       "      <td>-0.264842</td>\n",
       "      <td>-1.671099</td>\n",
       "      <td>-1.656732</td>\n",
       "      <td>1.057438</td>\n",
       "    </tr>\n",
       "    <tr>\n",
       "      <th>4</th>\n",
       "      <td>625</td>\n",
       "      <td>535105100</td>\n",
       "      <td>-0.580866</td>\n",
       "      <td>0.009631</td>\n",
       "      <td>-2.111455</td>\n",
       "      <td>-0.083744</td>\n",
       "      <td>0.075636</td>\n",
       "      <td>0.053221</td>\n",
       "      <td>-1.399702</td>\n",
       "      <td>0.316443</td>\n",
       "      <td>0.033748</td>\n",
       "      <td>0.597473</td>\n",
       "      <td>-0.216513</td>\n",
       "      <td>0.096429</td>\n",
       "      <td>-0.056162</td>\n",
       "      <td>-0.012749</td>\n",
       "      <td>-0.430766</td>\n",
       "      <td>-0.561267</td>\n",
       "      <td>-0.039744</td>\n",
       "      <td>-0.501353</td>\n",
       "      <td>-1.049010</td>\n",
       "      <td>-0.465037</td>\n",
       "      <td>-0.137031</td>\n",
       "      <td>-1.422230</td>\n",
       "      <td>0.744718</td>\n",
       "      <td>-0.678508</td>\n",
       "      <td>-0.228067</td>\n",
       "      <td>-0.537520</td>\n",
       "      <td>0.601378</td>\n",
       "      <td>0.160561</td>\n",
       "      <td>-0.590655</td>\n",
       "      <td>0.233274</td>\n",
       "      <td>0.374474</td>\n",
       "      <td>0.576463</td>\n",
       "      <td>0.852583</td>\n",
       "      <td>-0.09684</td>\n",
       "      <td>-0.136254</td>\n",
       "      <td>0.258356</td>\n",
       "      <td>0.261043</td>\n",
       "      <td>0.645859</td>\n",
       "      <td>-0.805235</td>\n",
       "      <td>-0.08378</td>\n",
       "      <td>1.056724</td>\n",
       "      <td>-0.242974</td>\n",
       "      <td>-0.965992</td>\n",
       "      <td>1.187690</td>\n",
       "      <td>0.145330</td>\n",
       "      <td>-0.213581</td>\n",
       "      <td>-0.756384</td>\n",
       "      <td>0.250557</td>\n",
       "      <td>-0.781314</td>\n",
       "      <td>0.319948</td>\n",
       "      <td>0.322303</td>\n",
       "      <td>-0.772558</td>\n",
       "      <td>0.412334</td>\n",
       "      <td>-0.328514</td>\n",
       "      <td>-0.104074</td>\n",
       "      <td>3.214353</td>\n",
       "      <td>-0.478968</td>\n",
       "      <td>-0.214042</td>\n",
       "      <td>-0.088152</td>\n",
       "      <td>0.300064</td>\n",
       "      <td>0.885846</td>\n",
       "      <td>0.349429</td>\n",
       "      <td>-0.414094</td>\n",
       "      <td>-0.327115</td>\n",
       "      <td>2.386463</td>\n",
       "      <td>0.104242</td>\n",
       "      <td>-0.060519</td>\n",
       "      <td>-0.264842</td>\n",
       "      <td>-0.406646</td>\n",
       "      <td>-0.420324</td>\n",
       "      <td>-1.050931</td>\n",
       "    </tr>\n",
       "  </tbody>\n",
       "</table>\n",
       "</div>"
      ],
      "text/plain": [
       "     Id        PID  MS SubClass  MS Zoning  Lot Frontage  Lot Area    Street  \\\n",
       "0  2658  902301120    -0.845828   1.219052      0.226794 -0.119395  0.075636   \n",
       "1  2718  905108090     2.068753   0.009631     -2.111455 -0.067611  0.075636   \n",
       "2  2414  528218130     0.743943   0.009631     -0.145970  0.673505  0.075636   \n",
       "3  1989  902207150    -0.315905   1.219052     -0.078195 -0.181337  0.075636   \n",
       "4   625  535105100    -0.580866   0.009631     -2.111455 -0.083744  0.075636   \n",
       "\n",
       "      Alley  Lot Shape  Land Contour  Utilities  Lot Config  Land Slope  \\\n",
       "0 -3.845253   0.737539      0.316443   0.033748    0.597473   -0.216513   \n",
       "1  0.053221  -1.399702      0.316443   0.033748    0.597473   -0.216513   \n",
       "2  0.053221  -1.399702      0.316443   0.033748    0.597473   -0.216513   \n",
       "3  0.053221   0.737539      0.316443   0.033748    0.597473   -0.216513   \n",
       "4  0.053221  -1.399702      0.316443   0.033748    0.597473   -0.216513   \n",
       "\n",
       "   Neighborhood  Condition 1  Condition 2  Bldg Type  House Style  \\\n",
       "0      0.793478    -0.056162    -0.012749   0.378301     0.996692   \n",
       "1      1.072298    -0.056162    -0.012749   1.187368    -0.561267   \n",
       "2     -0.879440    -0.056162    -0.012749  -0.430766     0.996692   \n",
       "3      0.793478    -0.056162    -0.012749  -0.430766    -0.561267   \n",
       "4      0.096429    -0.056162    -0.012749  -0.430766    -0.561267   \n",
       "\n",
       "   Overall Qual  Overall Cond  Year Remod/Add  Roof Style  Roof Matl  \\\n",
       "0     -0.039744      2.158742       -1.684928   -0.465037  -0.137031   \n",
       "1     -0.767560     -1.388051       -0.364176   -0.465037  -0.137031   \n",
       "2      0.688072     -0.501353        1.054409   -0.465037  -0.137031   \n",
       "3     -0.767560      0.385345        1.054409   -0.465037  -0.137031   \n",
       "4     -0.039744     -0.501353       -1.049010   -0.465037  -0.137031   \n",
       "\n",
       "   Mas Vnr Type  Mas Vnr Area  Exter Qual  Exter Cond  Foundation  Bsmt Qual  \\\n",
       "0      0.498108     -0.567876   -0.678508   -2.937136    3.466548  -1.596589   \n",
       "1      0.498108     -0.567876   -0.678508   -0.228067   -0.537520   0.601378   \n",
       "2      0.498108     -0.567876    1.101815   -0.228067    0.797169   0.601378   \n",
       "3      0.498108     -0.567876    1.101815   -0.228067   -0.537520  -0.497606   \n",
       "4     -1.422230      0.744718   -0.678508   -0.228067   -0.537520   0.601378   \n",
       "\n",
       "   Bsmt Cond  Bsmt Exposure  BsmtFin Type 1  BsmtFin SF 1  Bsmt Unf SF  \\\n",
       "0   0.160561      -0.590655       -1.200628     -1.002642     1.128313   \n",
       "1   0.160561      -0.590655       -1.200628     -1.002642     3.352152   \n",
       "2   1.902942       1.283662        1.189208      0.250104    -1.032121   \n",
       "3   0.160561      -0.590655       -1.200628     -1.002642     1.006202   \n",
       "4   0.160561      -0.590655        0.233274      0.374474     0.576463   \n",
       "\n",
       "   Total Bsmt SF  Heating  Heating QC  Central Air  Electrical  1st Flr SF  \\\n",
       "0      -0.039976 -0.09684   -0.136254    -3.870635   -8.237365   -0.630383   \n",
       "1       2.220060 -0.09684   -1.196141     0.258356    0.261043    2.150564   \n",
       "2      -0.913443 -0.09684    0.923633     0.258356    0.261043   -1.271130   \n",
       "3      -0.164075 -0.09684   -1.196141     0.258356    0.261043   -0.472823   \n",
       "4       0.852583 -0.09684   -0.136254     0.258356    0.261043    0.645859   \n",
       "\n",
       "   2nd Flr SF  Low Qual Fin SF  Bsmt Full Bath  Bsmt Half Bath  Full Bath  \\\n",
       "0    1.543113         -0.08378       -0.831204       -0.242974   0.817846   \n",
       "1   -0.805235         -0.08378       -0.831204       -0.242974   0.817846   \n",
       "2    1.110281         -0.08378        1.056724       -0.242974   0.817846   \n",
       "3   -0.805235         -0.08378       -0.831204       -0.242974  -0.965992   \n",
       "4   -0.805235         -0.08378        1.056724       -0.242974  -0.965992   \n",
       "\n",
       "   Half Bath  Bedroom AbvGr  Kitchen AbvGr  Kitchen Qual  Functional  \\\n",
       "0  -0.789544       1.350474       4.256360     -2.277805    0.250557   \n",
       "1  -0.789544       3.760761       4.256360     -0.756384    0.250557   \n",
       "2   1.187690       0.145330      -0.213581      0.765038    0.250557   \n",
       "3  -0.789544      -1.059813      -0.213581     -0.756384    0.250557   \n",
       "4   1.187690       0.145330      -0.213581     -0.756384    0.250557   \n",
       "\n",
       "   Garage Type  Garage Finish  Paved Drive  Wood Deck SF  Open Porch SF  \\\n",
       "0     1.285728      -0.796061     0.322303     -0.772558       0.181019   \n",
       "1    -0.781314       1.435957     0.322303      0.631179      -0.686412   \n",
       "2    -0.781314       0.319948     0.322303      0.053170      -0.339439   \n",
       "3     1.285728      -0.796061    -3.381023     -0.772558      -0.686412   \n",
       "4    -0.781314       0.319948     0.322303     -0.772558       0.412334   \n",
       "\n",
       "   Enclosed Porch  3Ssn Porch  Screen Porch     Fence  Misc Feature  Misc Val  \\\n",
       "0        1.202156   -0.104074     -0.279785 -0.478968     -0.214042 -0.088152   \n",
       "1       -0.328514   -0.104074     -0.279785 -0.478968     -0.214042 -0.088152   \n",
       "2       -0.328514   -0.104074     -0.279785 -0.478968     -0.214042 -0.088152   \n",
       "3        2.186158   -0.104074     -0.279785 -0.478968     -0.214042 -0.088152   \n",
       "4       -0.328514   -0.104074      3.214353 -0.478968     -0.214042 -0.088152   \n",
       "\n",
       "    Mo Sold   Yr Sold  Sale Type  Exterior Combined  Rooms Combined  \\\n",
       "0 -0.835185 -1.375505   0.349429          -1.691204        1.151806   \n",
       "1  0.678480 -1.375505   0.349429          -0.414094        1.533218   \n",
       "2  1.056896 -1.375505  -1.298950           0.811931        0.019743   \n",
       "3  0.300064 -0.621721   0.349429           1.182293       -0.906968   \n",
       "4  0.300064  0.885846   0.349429          -0.414094       -0.327115   \n",
       "\n",
       "   Fireplace Combined  Garage Combined  Pool Combined  Bsmt Type 2 Combined  \\\n",
       "0           -0.873367        -1.234196      -0.060519             -0.264842   \n",
       "1           -0.873367         0.284685      -0.060519             -0.264842   \n",
       "2            0.756548        -0.136349      -0.060519             -0.264842   \n",
       "3           -0.873367        -0.426152      -0.060519             -0.264842   \n",
       "4            2.386463         0.104242      -0.060519             -0.264842   \n",
       "\n",
       "   Year Combined  Year Combined Squared  Year Remod/Add Squared  \n",
       "0      -2.367550              -2.319279               -1.679352  \n",
       "1       0.120289               0.107680               -0.369501  \n",
       "2       1.223710               1.237651                1.057438  \n",
       "3      -1.671099              -1.656732                1.057438  \n",
       "4      -0.406646              -0.420324               -1.050931  "
      ]
     },
     "execution_count": 624,
     "metadata": {},
     "output_type": "execute_result"
    }
   ],
   "source": [
    "df2 = pd.read_csv(\"../datasets/test_clean.csv\", dtype = {\"Id\":str, \"PID\":str})\n",
    "df2.head()"
   ]
  },
  {
   "cell_type": "code",
   "execution_count": 625,
   "metadata": {},
   "outputs": [],
   "source": [
    "X = df2.drop(['Id', 'PID'], axis = 'columns')\n",
    "y = best_l.predict(X)"
   ]
  },
  {
   "cell_type": "code",
   "execution_count": 626,
   "metadata": {},
   "outputs": [],
   "source": [
    "df2[\"SalePrice\"] = y"
   ]
  },
  {
   "cell_type": "code",
   "execution_count": 627,
   "metadata": {},
   "outputs": [],
   "source": [
    "col_drop_list = df2.columns.drop([\"Id\",\"SalePrice\"])\n",
    "df2.drop(col_drop_list, axis = 1, inplace = True)"
   ]
  },
  {
   "cell_type": "code",
   "execution_count": 628,
   "metadata": {},
   "outputs": [
    {
     "data": {
      "text/plain": [
       "['../models/lasso_model_tuned.joblib']"
      ]
     },
     "execution_count": 628,
     "metadata": {},
     "output_type": "execute_result"
    }
   ],
   "source": [
    "dump(best_l, '../models/lasso_model_tuned.joblib') "
   ]
  },
  {
   "cell_type": "code",
   "execution_count": 630,
   "metadata": {},
   "outputs": [],
   "source": [
    "df2.to_csv(\"../datasets/test_results.csv\", index = False)"
   ]
  },
  {
   "cell_type": "code",
   "execution_count": null,
   "metadata": {},
   "outputs": [],
   "source": []
  }
 ],
 "metadata": {
  "kernelspec": {
   "display_name": "Python 3",
   "language": "python",
   "name": "python3"
  },
  "language_info": {
   "codemirror_mode": {
    "name": "ipython",
    "version": 3
   },
   "file_extension": ".py",
   "mimetype": "text/x-python",
   "name": "python",
   "nbconvert_exporter": "python",
   "pygments_lexer": "ipython3",
   "version": "3.7.6"
  }
 },
 "nbformat": 4,
 "nbformat_minor": 4
}
